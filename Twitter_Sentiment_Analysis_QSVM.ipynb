{
  "cells": [
    {
      "cell_type": "code",
      "execution_count": 1,
      "metadata": {
        "colab": {
          "base_uri": "https://localhost:8080/"
        },
        "id": "cfzAFDVYUGI0",
        "outputId": "b7c9a333-c0bd-41d8-9b64-7cb95feb7325"
      },
      "outputs": [
        {
          "name": "stdout",
          "output_type": "stream",
          "text": [
            "Requirement already satisfied: qiskit in c:\\users\\aarya\\appdata\\local\\programs\\python\\python312\\lib\\site-packages (1.2.0)\n",
            "Requirement already satisfied: rustworkx>=0.15.0 in c:\\users\\aarya\\appdata\\local\\programs\\python\\python312\\lib\\site-packages (from qiskit) (0.15.1)\n",
            "Requirement already satisfied: numpy<3,>=1.17 in c:\\users\\aarya\\appdata\\local\\programs\\python\\python312\\lib\\site-packages (from qiskit) (1.26.1)\n",
            "Requirement already satisfied: scipy>=1.5 in c:\\users\\aarya\\appdata\\local\\programs\\python\\python312\\lib\\site-packages (from qiskit) (1.14.1)\n",
            "Requirement already satisfied: sympy>=1.3 in c:\\users\\aarya\\appdata\\local\\programs\\python\\python312\\lib\\site-packages (from qiskit) (1.12)\n",
            "Requirement already satisfied: dill>=0.3 in c:\\users\\aarya\\appdata\\local\\programs\\python\\python312\\lib\\site-packages (from qiskit) (0.3.8)\n",
            "Requirement already satisfied: python-dateutil>=2.8.0 in c:\\users\\aarya\\appdata\\local\\programs\\python\\python312\\lib\\site-packages (from qiskit) (2.9.0.post0)\n",
            "Requirement already satisfied: stevedore>=3.0.0 in c:\\users\\aarya\\appdata\\local\\programs\\python\\python312\\lib\\site-packages (from qiskit) (5.3.0)\n",
            "Requirement already satisfied: typing-extensions in c:\\users\\aarya\\appdata\\local\\programs\\python\\python312\\lib\\site-packages (from qiskit) (4.12.2)\n",
            "Requirement already satisfied: symengine>=0.11 in c:\\users\\aarya\\appdata\\local\\programs\\python\\python312\\lib\\site-packages (from qiskit) (0.11.0)\n",
            "Requirement already satisfied: six>=1.5 in c:\\users\\aarya\\appdata\\roaming\\python\\python312\\site-packages (from python-dateutil>=2.8.0->qiskit) (1.16.0)\n",
            "Requirement already satisfied: pbr>=2.0.0 in c:\\users\\aarya\\appdata\\local\\programs\\python\\python312\\lib\\site-packages (from stevedore>=3.0.0->qiskit) (6.1.0)\n",
            "Requirement already satisfied: mpmath>=0.19 in c:\\users\\aarya\\appdata\\local\\programs\\python\\python312\\lib\\site-packages (from sympy>=1.3->qiskit) (1.3.0)\n"
          ]
        }
      ],
      "source": [
        "!pip install qiskit"
      ]
    },
    {
      "cell_type": "code",
      "execution_count": 2,
      "metadata": {
        "id": "5r6mNS0z16_S"
      },
      "outputs": [],
      "source": [
        "import re\n",
        "import pandas as pd\n",
        "from bs4 import BeautifulSoup\n",
        "from sklearn.feature_extraction.text import TfidfVectorizer\n",
        "from sklearn.decomposition import PCA\n",
        "from sklearn.decomposition import IncrementalPCA\n",
        "from sklearn.model_selection import train_test_split\n",
        "from sklearn.metrics import accuracy_score\n",
        "from qiskit_aer import AerSimulator\n",
        "from qiskit_machine_learning.algorithms import QSVC\n",
        "from qiskit_machine_learning.kernels import FidelityQuantumKernel\n",
        "from qiskit.circuit.library import ZZFeatureMap\n",
        "from qiskit.quantum_info import Statevector\n",
        "import spacy\n",
        "from concurrent.futures import ProcessPoolExecutor"
      ]
    },
    {
      "cell_type": "code",
      "execution_count": 3,
      "metadata": {},
      "outputs": [
        {
          "name": "stdout",
          "output_type": "stream",
          "text": [
            "Requirement already satisfied: qiskit-aer in c:\\users\\aarya\\appdata\\local\\programs\\python\\python312\\lib\\site-packages (0.15.0)\n",
            "Requirement already satisfied: qiskit>=1.1.0 in c:\\users\\aarya\\appdata\\local\\programs\\python\\python312\\lib\\site-packages (from qiskit-aer) (1.2.0)\n",
            "Requirement already satisfied: numpy>=1.16.3 in c:\\users\\aarya\\appdata\\local\\programs\\python\\python312\\lib\\site-packages (from qiskit-aer) (1.26.1)\n",
            "Requirement already satisfied: scipy>=1.0 in c:\\users\\aarya\\appdata\\local\\programs\\python\\python312\\lib\\site-packages (from qiskit-aer) (1.14.1)\n",
            "Requirement already satisfied: psutil>=5 in c:\\users\\aarya\\appdata\\roaming\\python\\python312\\site-packages (from qiskit-aer) (5.9.8)\n",
            "Requirement already satisfied: rustworkx>=0.15.0 in c:\\users\\aarya\\appdata\\local\\programs\\python\\python312\\lib\\site-packages (from qiskit>=1.1.0->qiskit-aer) (0.15.1)\n",
            "Requirement already satisfied: sympy>=1.3 in c:\\users\\aarya\\appdata\\local\\programs\\python\\python312\\lib\\site-packages (from qiskit>=1.1.0->qiskit-aer) (1.12)\n",
            "Requirement already satisfied: dill>=0.3 in c:\\users\\aarya\\appdata\\local\\programs\\python\\python312\\lib\\site-packages (from qiskit>=1.1.0->qiskit-aer) (0.3.8)\n",
            "Requirement already satisfied: python-dateutil>=2.8.0 in c:\\users\\aarya\\appdata\\local\\programs\\python\\python312\\lib\\site-packages (from qiskit>=1.1.0->qiskit-aer) (2.9.0.post0)\n",
            "Requirement already satisfied: stevedore>=3.0.0 in c:\\users\\aarya\\appdata\\local\\programs\\python\\python312\\lib\\site-packages (from qiskit>=1.1.0->qiskit-aer) (5.3.0)\n",
            "Requirement already satisfied: typing-extensions in c:\\users\\aarya\\appdata\\local\\programs\\python\\python312\\lib\\site-packages (from qiskit>=1.1.0->qiskit-aer) (4.12.2)\n",
            "Requirement already satisfied: symengine>=0.11 in c:\\users\\aarya\\appdata\\local\\programs\\python\\python312\\lib\\site-packages (from qiskit>=1.1.0->qiskit-aer) (0.11.0)\n",
            "Requirement already satisfied: six>=1.5 in c:\\users\\aarya\\appdata\\roaming\\python\\python312\\site-packages (from python-dateutil>=2.8.0->qiskit>=1.1.0->qiskit-aer) (1.16.0)\n",
            "Requirement already satisfied: pbr>=2.0.0 in c:\\users\\aarya\\appdata\\local\\programs\\python\\python312\\lib\\site-packages (from stevedore>=3.0.0->qiskit>=1.1.0->qiskit-aer) (6.1.0)\n",
            "Requirement already satisfied: mpmath>=0.19 in c:\\users\\aarya\\appdata\\local\\programs\\python\\python312\\lib\\site-packages (from sympy>=1.3->qiskit>=1.1.0->qiskit-aer) (1.3.0)\n",
            "Note: you may need to restart the kernel to use updated packages.\n"
          ]
        }
      ],
      "source": [
        "pip install qiskit-aer"
      ]
    },
    {
      "cell_type": "code",
      "execution_count": 4,
      "metadata": {},
      "outputs": [
        {
          "name": "stdout",
          "output_type": "stream",
          "text": [
            "3.7.6\n"
          ]
        }
      ],
      "source": [
        "import spacy\n",
        "print(spacy.__version__)"
      ]
    },
    {
      "cell_type": "code",
      "execution_count": 5,
      "metadata": {},
      "outputs": [],
      "source": [
        "# python -m spacy download en_core_web_sm"
      ]
    },
    {
      "cell_type": "code",
      "execution_count": 1,
      "metadata": {
        "colab": {
          "base_uri": "https://localhost:8080/"
        },
        "id": "TlD1CUV3U4Zh",
        "outputId": "86dd9958-51f3-47f8-e16c-6d9369fdfe82"
      },
      "outputs": [],
      "source": [
        "import re\n",
        "import pandas as pd\n",
        "from bs4 import BeautifulSoup\n",
        "from sklearn.feature_extraction.text import TfidfVectorizer\n",
        "from sklearn.decomposition import IncrementalPCA\n",
        "from sklearn.model_selection import train_test_split\n",
        "import spacy\n",
        "\n",
        "# Initialize SpaCy for text processing\n",
        "nlp = spacy.load(\"en_core_web_sm\")\n",
        "stopwords = nlp.Defaults.stop_words\n",
        "\n",
        "# Load the dataset\n",
        "df = pd.read_csv('twittersentiment.csv', header=None, index_col=[0])\n",
        "df = df[[2, 3]].reset_index(drop=True)\n",
        "df.columns = ['sentiment', 'text']\n",
        "\n",
        "# Data Cleaning\n",
        "df.dropna(inplace=True)\n",
        "df = df[df['text'].apply(len) > 1]\n",
        "\n",
        "def get_basic_features(df, stopwords):\n",
        "    df.loc[:, 'char_counts'] = df['text'].apply(len)\n",
        "    df.loc[:, 'word_counts'] = df['text'].apply(lambda x: len(x.split()))\n",
        "    df.loc[:, 'avg_wordlength'] = df.apply(lambda x: len(x['text'].replace(\" \", \"\")) / len(x['text'].split()) if len(x['text'].split()) != 0 else 0, axis=1)\n",
        "    df.loc[:, 'stopwords_counts'] = df['text'].apply(lambda x: len([t for t in x.split() if t in stopwords]))\n",
        "    df.loc[:, 'hashtag_counts'] = df['text'].apply(lambda x: len([t for t in x.split() if t.startswith('#')]))\n",
        "    df.loc[:, 'mentions_counts'] = df['text'].apply(lambda x: len([t for t in x.split() if t.startswith('@')]))\n",
        "    df.loc[:, 'digits_counts'] = df['text'].apply(lambda x: len(re.findall(r'[0-9,.]+', x)))\n",
        "    df.loc[:, 'uppercase_counts'] = df['text'].apply(lambda x: len([t for t in x.split() if t.isupper()]))\n",
        "    return df\n",
        "\n",
        "df = get_basic_features(df, stopwords)\n",
        "\n",
        "df.loc[:, 'text'] = df['text'].apply(lambda x: x.lower())\n",
        "\n",
        "def remove_emails(x):\n",
        "    return re.sub(r'([a-z0-9+._-]+@[a-z0-9+._-]+\\.[a-z0-9+_-]+)', \"\", x)\n",
        "\n",
        "def remove_urls(x):\n",
        "    return re.sub(r'(http|https|ftp|ssh)://([\\w_-]+(?:(?:\\.[\\w_-]+)+))([\\w.,@?^=%&:/~+#-]*[\\w@?^=%&/~+#-])?', '', x)\n",
        "\n",
        "def remove_html_tags(x):\n",
        "    x = str(x)\n",
        "    return BeautifulSoup(x, \"lxml\").get_text().strip()\n",
        "\n",
        "def remove_special_chars(text):\n",
        "    doc = nlp(text)\n",
        "    tokens = [token.text for token in doc]\n",
        "    return ' '.join(tokens)\n",
        "\n",
        "def remove_rt(x):\n",
        "    return re.sub(r'\\brt\\b', '', x).strip()\n",
        "\n",
        "# Function to process text\n",
        "def process_text(text):\n",
        "    text = remove_emails(text)\n",
        "    text = remove_urls(text)\n",
        "    text = remove_html_tags(text)\n",
        "    text = remove_special_chars(text)\n",
        "    text = remove_rt(text)\n",
        "    return text\n",
        "\n"
      ]
    },
    {
      "cell_type": "code",
      "execution_count": 12,
      "metadata": {},
      "outputs": [
        {
          "name": "stdout",
          "output_type": "stream",
          "text": [
            "Collecting lxml\n",
            "  Downloading lxml-5.3.0-cp312-cp312-win_amd64.whl.metadata (3.9 kB)\n",
            "Downloading lxml-5.3.0-cp312-cp312-win_amd64.whl (3.8 MB)\n",
            "   ---------------------------------------- 0.0/3.8 MB ? eta -:--:--\n",
            "   ---------------------------------------- 0.0/3.8 MB ? eta -:--:--\n",
            "   ----- ---------------------------------- 0.5/3.8 MB 2.8 MB/s eta 0:00:02\n",
            "   ---------------- ----------------------- 1.6/3.8 MB 4.7 MB/s eta 0:00:01\n",
            "   ----------------------------------- ---- 3.4/3.8 MB 5.9 MB/s eta 0:00:01\n",
            "   ---------------------------------------- 3.8/3.8 MB 5.7 MB/s eta 0:00:00\n",
            "Installing collected packages: lxml\n",
            "Successfully installed lxml-5.3.0\n",
            "Note: you may need to restart the kernel to use updated packages.\n"
          ]
        }
      ],
      "source": [
        "pip install lxml\n"
      ]
    },
    {
      "cell_type": "code",
      "execution_count": 13,
      "metadata": {},
      "outputs": [
        {
          "name": "stdout",
          "output_type": "stream",
          "text": [
            "Requirement already satisfied: beautifulsoup4 in c:\\users\\aarya\\appdata\\local\\programs\\python\\python312\\lib\\site-packages (4.12.3)\n",
            "Requirement already satisfied: soupsieve>1.2 in c:\\users\\aarya\\appdata\\local\\programs\\python\\python312\\lib\\site-packages (from beautifulsoup4) (2.5)\n",
            "Note: you may need to restart the kernel to use updated packages.\n"
          ]
        }
      ],
      "source": [
        "pip install beautifulsoup4\n"
      ]
    },
    {
      "cell_type": "code",
      "execution_count": 10,
      "metadata": {},
      "outputs": [
        {
          "name": "stdout",
          "output_type": "stream",
          "text": [
            "Requirement already satisfied: parser-libraries in c:\\users\\aarya\\appdata\\local\\programs\\python\\python312\\lib\\site-packages (3.7)\n",
            "Requirement already satisfied: pymysql in c:\\users\\aarya\\appdata\\local\\programs\\python\\python312\\lib\\site-packages (from parser-libraries) (1.1.1)\n",
            "Requirement already satisfied: openpy in c:\\users\\aarya\\appdata\\local\\programs\\python\\python312\\lib\\site-packages (from parser-libraries) (0.0.2)\n",
            "Requirement already satisfied: requests in c:\\users\\aarya\\appdata\\local\\programs\\python\\python312\\lib\\site-packages (from parser-libraries) (2.32.2)\n",
            "Requirement already satisfied: bs4 in c:\\users\\aarya\\appdata\\local\\programs\\python\\python312\\lib\\site-packages (from parser-libraries) (0.0.2)\n",
            "Requirement already satisfied: selenium in c:\\users\\aarya\\appdata\\local\\programs\\python\\python312\\lib\\site-packages (from parser-libraries) (4.24.0)\n",
            "Requirement already satisfied: pytelegrambotapi in c:\\users\\aarya\\appdata\\local\\programs\\python\\python312\\lib\\site-packages (from parser-libraries) (4.22.1)\n",
            "Requirement already satisfied: cryptography in c:\\users\\aarya\\appdata\\local\\programs\\python\\python312\\lib\\site-packages (from parser-libraries) (43.0.0)\n",
            "Requirement already satisfied: urllib3 in c:\\users\\aarya\\appdata\\local\\programs\\python\\python312\\lib\\site-packages (from parser-libraries) (2.2.2)\n",
            "Requirement already satisfied: beautifulsoup4 in c:\\users\\aarya\\appdata\\local\\programs\\python\\python312\\lib\\site-packages (from bs4->parser-libraries) (4.12.3)\n",
            "Requirement already satisfied: cffi>=1.12 in c:\\users\\aarya\\appdata\\local\\programs\\python\\python312\\lib\\site-packages (from cryptography->parser-libraries) (1.16.0)\n",
            "Requirement already satisfied: s3fs in c:\\users\\aarya\\appdata\\local\\programs\\python\\python312\\lib\\site-packages (from openpy->parser-libraries) (2024.9.0)\n",
            "Requirement already satisfied: charset-normalizer<4,>=2 in c:\\users\\aarya\\appdata\\local\\programs\\python\\python312\\lib\\site-packages (from requests->parser-libraries) (3.3.2)\n",
            "Requirement already satisfied: idna<4,>=2.5 in c:\\users\\aarya\\appdata\\local\\programs\\python\\python312\\lib\\site-packages (from requests->parser-libraries) (3.6)\n",
            "Requirement already satisfied: certifi>=2017.4.17 in c:\\users\\aarya\\appdata\\local\\programs\\python\\python312\\lib\\site-packages (from requests->parser-libraries) (2024.2.2)\n",
            "Requirement already satisfied: trio~=0.17 in c:\\users\\aarya\\appdata\\local\\programs\\python\\python312\\lib\\site-packages (from selenium->parser-libraries) (0.21.0)\n",
            "Requirement already satisfied: trio-websocket~=0.9 in c:\\users\\aarya\\appdata\\local\\programs\\python\\python312\\lib\\site-packages (from selenium->parser-libraries) (0.11.1)\n",
            "Requirement already satisfied: typing_extensions~=4.9 in c:\\users\\aarya\\appdata\\local\\programs\\python\\python312\\lib\\site-packages (from selenium->parser-libraries) (4.12.2)\n",
            "Requirement already satisfied: websocket-client~=1.8 in c:\\users\\aarya\\appdata\\local\\programs\\python\\python312\\lib\\site-packages (from selenium->parser-libraries) (1.8.0)\n",
            "Requirement already satisfied: pycparser in c:\\users\\aarya\\appdata\\local\\programs\\python\\python312\\lib\\site-packages (from cffi>=1.12->cryptography->parser-libraries) (2.22)\n",
            "Requirement already satisfied: attrs>=19.2.0 in c:\\users\\aarya\\appdata\\local\\programs\\python\\python312\\lib\\site-packages (from trio~=0.17->selenium->parser-libraries) (23.2.0)\n",
            "Requirement already satisfied: sortedcontainers in c:\\users\\aarya\\appdata\\local\\programs\\python\\python312\\lib\\site-packages (from trio~=0.17->selenium->parser-libraries) (2.4.0)\n",
            "Requirement already satisfied: async-generator>=1.9 in c:\\users\\aarya\\appdata\\local\\programs\\python\\python312\\lib\\site-packages (from trio~=0.17->selenium->parser-libraries) (1.10)\n",
            "Requirement already satisfied: outcome in c:\\users\\aarya\\appdata\\local\\programs\\python\\python312\\lib\\site-packages (from trio~=0.17->selenium->parser-libraries) (1.3.0.post0)\n",
            "Requirement already satisfied: sniffio in c:\\users\\aarya\\appdata\\local\\programs\\python\\python312\\lib\\site-packages (from trio~=0.17->selenium->parser-libraries) (1.3.1)\n",
            "Requirement already satisfied: wsproto>=0.14 in c:\\users\\aarya\\appdata\\local\\programs\\python\\python312\\lib\\site-packages (from trio-websocket~=0.9->selenium->parser-libraries) (1.2.0)\n",
            "Requirement already satisfied: pysocks!=1.5.7,<2.0,>=1.5.6 in c:\\users\\aarya\\appdata\\local\\programs\\python\\python312\\lib\\site-packages (from urllib3[socks]<3,>=1.26->selenium->parser-libraries) (1.7.1)\n",
            "Requirement already satisfied: soupsieve>1.2 in c:\\users\\aarya\\appdata\\local\\programs\\python\\python312\\lib\\site-packages (from beautifulsoup4->bs4->parser-libraries) (2.5)\n",
            "Requirement already satisfied: aiobotocore<3.0.0,>=2.5.4 in c:\\users\\aarya\\appdata\\local\\programs\\python\\python312\\lib\\site-packages (from s3fs->openpy->parser-libraries) (2.15.0)\n",
            "Requirement already satisfied: fsspec==2024.9.0.* in c:\\users\\aarya\\appdata\\local\\programs\\python\\python312\\lib\\site-packages (from s3fs->openpy->parser-libraries) (2024.9.0)\n",
            "Requirement already satisfied: aiohttp!=4.0.0a0,!=4.0.0a1 in c:\\users\\aarya\\appdata\\local\\programs\\python\\python312\\lib\\site-packages (from s3fs->openpy->parser-libraries) (3.10.5)\n",
            "Requirement already satisfied: botocore<1.35.17,>=1.35.16 in c:\\users\\aarya\\appdata\\local\\programs\\python\\python312\\lib\\site-packages (from aiobotocore<3.0.0,>=2.5.4->s3fs->openpy->parser-libraries) (1.35.16)\n",
            "Requirement already satisfied: wrapt<2.0.0,>=1.10.10 in c:\\users\\aarya\\appdata\\local\\programs\\python\\python312\\lib\\site-packages (from aiobotocore<3.0.0,>=2.5.4->s3fs->openpy->parser-libraries) (1.16.0)\n",
            "Requirement already satisfied: aioitertools<1.0.0,>=0.5.1 in c:\\users\\aarya\\appdata\\local\\programs\\python\\python312\\lib\\site-packages (from aiobotocore<3.0.0,>=2.5.4->s3fs->openpy->parser-libraries) (0.12.0)\n",
            "Requirement already satisfied: aiohappyeyeballs>=2.3.0 in c:\\users\\aarya\\appdata\\local\\programs\\python\\python312\\lib\\site-packages (from aiohttp!=4.0.0a0,!=4.0.0a1->s3fs->openpy->parser-libraries) (2.4.0)\n",
            "Requirement already satisfied: aiosignal>=1.1.2 in c:\\users\\aarya\\appdata\\local\\programs\\python\\python312\\lib\\site-packages (from aiohttp!=4.0.0a0,!=4.0.0a1->s3fs->openpy->parser-libraries) (1.3.1)\n",
            "Requirement already satisfied: frozenlist>=1.1.1 in c:\\users\\aarya\\appdata\\local\\programs\\python\\python312\\lib\\site-packages (from aiohttp!=4.0.0a0,!=4.0.0a1->s3fs->openpy->parser-libraries) (1.4.1)\n",
            "Requirement already satisfied: multidict<7.0,>=4.5 in c:\\users\\aarya\\appdata\\local\\programs\\python\\python312\\lib\\site-packages (from aiohttp!=4.0.0a0,!=4.0.0a1->s3fs->openpy->parser-libraries) (6.0.5)\n",
            "Requirement already satisfied: yarl<2.0,>=1.0 in c:\\users\\aarya\\appdata\\local\\programs\\python\\python312\\lib\\site-packages (from aiohttp!=4.0.0a0,!=4.0.0a1->s3fs->openpy->parser-libraries) (1.9.6)\n",
            "Requirement already satisfied: h11<1,>=0.9.0 in c:\\users\\aarya\\appdata\\local\\programs\\python\\python312\\lib\\site-packages (from wsproto>=0.14->trio-websocket~=0.9->selenium->parser-libraries) (0.14.0)\n",
            "Requirement already satisfied: jmespath<2.0.0,>=0.7.1 in c:\\users\\aarya\\appdata\\local\\programs\\python\\python312\\lib\\site-packages (from botocore<1.35.17,>=1.35.16->aiobotocore<3.0.0,>=2.5.4->s3fs->openpy->parser-libraries) (1.0.1)\n",
            "Requirement already satisfied: python-dateutil<3.0.0,>=2.1 in c:\\users\\aarya\\appdata\\local\\programs\\python\\python312\\lib\\site-packages (from botocore<1.35.17,>=1.35.16->aiobotocore<3.0.0,>=2.5.4->s3fs->openpy->parser-libraries) (2.9.0.post0)\n",
            "Requirement already satisfied: six>=1.5 in c:\\users\\aarya\\appdata\\roaming\\python\\python312\\site-packages (from python-dateutil<3.0.0,>=2.1->botocore<1.35.17,>=1.35.16->aiobotocore<3.0.0,>=2.5.4->s3fs->openpy->parser-libraries) (1.16.0)\n",
            "Note: you may need to restart the kernel to use updated packages.\n"
          ]
        }
      ],
      "source": [
        "pip install parser-libraries"
      ]
    },
    {
      "cell_type": "code",
      "execution_count": 2,
      "metadata": {},
      "outputs": [
        {
          "name": "stdout",
          "output_type": "stream",
          "text": [
            "Processing text data...\n"
          ]
        },
        {
          "name": "stderr",
          "output_type": "stream",
          "text": [
            "C:\\Users\\aarya\\AppData\\Local\\Temp\\ipykernel_19076\\219797538.py:45: MarkupResemblesLocatorWarning: The input looks more like a filename than markup. You may want to open this file and pass the filehandle into Beautiful Soup.\n",
            "  return BeautifulSoup(x, \"lxml\").get_text().strip()\n"
          ]
        }
      ],
      "source": [
        "\n",
        "\n",
        "# Process data\n",
        "print(\"Processing text data...\")\n",
        "df['processed_text'] = df['text'].apply(process_text)\n",
        "print(\"Text processing complete.\")\n",
        "\n",
        "# Split data into training and test sets\n",
        "X_train, X_test, y_train, y_test = train_test_split(df['processed_text'], df['sentiment'], test_size=0.2, random_state=42)\n",
        "\n",
        "# Feature extraction using TF-IDF\n",
        "print(\"Extracting features...\")\n",
        "tfidf_vectorizer = TfidfVectorizer(stop_words=list(stopwords))\n",
        "X_train_tfidf = tfidf_vectorizer.fit_transform(X_train)\n",
        "X_test_tfidf = tfidf_vectorizer.transform(X_test)\n",
        "print(\"Feature extraction complete.\")\n",
        "\n",
        "# Reduce dimensionality to match QSVM input requirements\n",
        "print(\"Reducing dimensionality...\")\n",
        "incremental_pca = IncrementalPCA(n_components=2, batch_size=5000)\n",
        "X_train_pca = incremental_pca.fit_transform(X_train_tfidf.toarray())\n",
        "X_test_pca = incremental_pca.transform(X_test_tfidf.toarray())\n",
        "print(\"Dimensionality reduction complete.\")\n",
        "\n",
        "print(\"Data preprocessing completed successfully.\")"
      ]
    },
    {
      "cell_type": "code",
      "execution_count": 17,
      "metadata": {
        "colab": {
          "base_uri": "https://localhost:8080/"
        },
        "id": "9jbji8K9_sD4",
        "outputId": "f2fcbccb-db52-4c9e-d9b4-25dcc72bb1d6"
      },
      "outputs": [
        {
          "ename": "NameError",
          "evalue": "name 'X_train_pca' is not defined",
          "output_type": "error",
          "traceback": [
            "\u001b[1;31m---------------------------------------------------------------------------\u001b[0m",
            "\u001b[1;31mNameError\u001b[0m                                 Traceback (most recent call last)",
            "Cell \u001b[1;32mIn[17], line 15\u001b[0m\n\u001b[0;32m     13\u001b[0m \u001b[38;5;66;03m# Initialize and train the QSVM model\u001b[39;00m\n\u001b[0;32m     14\u001b[0m qsvm \u001b[38;5;241m=\u001b[39m QSVC(quantum_kernel\u001b[38;5;241m=\u001b[39mquantum_kernel)\n\u001b[1;32m---> 15\u001b[0m qsvm\u001b[38;5;241m.\u001b[39mfit(\u001b[43mX_train_pca\u001b[49m, y_train)\n\u001b[0;32m     17\u001b[0m \u001b[38;5;66;03m# Prediction and evaluation\u001b[39;00m\n\u001b[0;32m     18\u001b[0m predictions \u001b[38;5;241m=\u001b[39m qsvm\u001b[38;5;241m.\u001b[39mpredict(X_test_pca)\n",
            "\u001b[1;31mNameError\u001b[0m: name 'X_train_pca' is not defined"
          ]
        }
      ],
      "source": [
        "# Define the quantum feature map\n",
        "feature_map = ZZFeatureMap(feature_dimension=2, reps=1, entanglement='linear')\n",
        "\n",
        "# Use AerSimulator directly\n",
        "simulator = AerSimulator(method='statevector')\n",
        "\n",
        "# Use AerSimulator directly with built-in fidelity\n",
        "simulator = AerSimulator(method='statevector')\n",
        "\n",
        "# Instantiate the FidelityQuantumKernel\n",
        "quantum_kernel = FidelityQuantumKernel(feature_map=feature_map)\n",
        "\n",
        "# Initialize and train the QSVM model\n",
        "qsvm = QSVC(quantum_kernel=quantum_kernel)\n",
        "qsvm.fit(X_train_pca, y_train)\n",
        "\n",
        "# Prediction and evaluation\n",
        "predictions = qsvm.predict(X_test_pca)\n",
        "print(\"Accuracy:\", accuracy_score(y_test, predictions))"
      ]
    },
    {
      "cell_type": "code",
      "execution_count": null,
      "metadata": {
        "id": "edGvHQqqj-3K"
      },
      "outputs": [],
      "source": []
    }
  ],
  "metadata": {
    "colab": {
      "provenance": []
    },
    "kernelspec": {
      "display_name": "Python 3",
      "name": "python3"
    },
    "language_info": {
      "codemirror_mode": {
        "name": "ipython",
        "version": 3
      },
      "file_extension": ".py",
      "mimetype": "text/x-python",
      "name": "python",
      "nbconvert_exporter": "python",
      "pygments_lexer": "ipython3",
      "version": "3.12.0"
    }
  },
  "nbformat": 4,
  "nbformat_minor": 0
}
